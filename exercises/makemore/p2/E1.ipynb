{
 "cells": [
  {
   "attachments": {},
   "cell_type": "markdown",
   "metadata": {},
   "source": [
    "> E01: Tune the hyperparameters of the training to beat my best validation loss of 2.2\n",
    "\n",
    "With context size `4`, embedding size `15`, and dynamic learning rate (`0.5` for 1~5000 epochs and `0.1` for 5001~25000 epochs), the validation loss was get down to `2.19` 😨\n",
    "\n",
    "|  | train | test | dev |\n",
    "| --- | --- | --- | --- |\n",
    "| reproduce | `2.1644` | `2.2246` | `2.2191` |\n",
    "| tuned | `2.1457` | `2.1999` | `2.1951` |"
   ]
  },
  {
   "attachments": {},
   "cell_type": "markdown",
   "metadata": {},
   "source": [
    "> E02: I was not careful with the intialization of the network in this video. (1) What is the loss you'd get if the predicted probabilities at initialization were perfectly uniform? What loss do we achieve (2) Can you tune the initialization to get a starting loss that is much more similar to (1)?"
   ]
  },
  {
   "attachments": {},
   "cell_type": "markdown",
   "metadata": {},
   "source": [
    "> E03: Read the Bengio et al 2003 paper (link above), implement and try any idea from the paper. Did it work?"
   ]
  },
  {
   "cell_type": "code",
   "execution_count": 45,
   "metadata": {},
   "outputs": [
    {
     "data": {
      "text/plain": [
       "device(type='cpu')"
      ]
     },
     "execution_count": 45,
     "metadata": {},
     "output_type": "execute_result"
    }
   ],
   "source": [
    "import torch\n",
    "\n",
    "if torch.backends.mps.is_available():\n",
    "    # not sure why, the mps device is even slower than the cpu device on my MacBook m1 machine\n",
    "    # device = torch.device('mps')\n",
    "    device = torch.device('cpu')\n",
    "else:\n",
    "    device = torch.device('cpu')\n",
    "\n",
    "device"
   ]
  },
  {
   "attachments": {},
   "cell_type": "markdown",
   "metadata": {},
   "source": [
    "# Load data"
   ]
  },
  {
   "cell_type": "code",
   "execution_count": 2,
   "metadata": {},
   "outputs": [],
   "source": [
    "words = open('../../../data/names.txt', 'r').read().splitlines()"
   ]
  },
  {
   "cell_type": "code",
   "execution_count": 3,
   "metadata": {},
   "outputs": [],
   "source": [
    "g = torch.Generator().manual_seed(2147483647)\n",
    "trainwords, devwords, testwords = torch.utils.data.random_split(words, [0.8, 0.1, 0.1])"
   ]
  },
  {
   "cell_type": "code",
   "execution_count": 4,
   "metadata": {},
   "outputs": [],
   "source": [
    "class Dataset:\n",
    "    def __init__(self, dataset, context_size: int = 3):\n",
    "        # create character - index mapping\n",
    "        chars = sorted(list(set(''.join(dataset))))\n",
    "        self.stoi = {s:i+1 for i,s in enumerate(chars)}\n",
    "        self.stoi['.'] = 0\n",
    "        self.itos = {i:s for s,i in self.stoi.items()}\n",
    "\n",
    "        # digitize the dataset\n",
    "        xs, ys = [], []\n",
    "\n",
    "        for w in dataset:\n",
    "            context = [0] * context_size\n",
    "\n",
    "            for ch in w + '.':\n",
    "                ix = self.stoi[ch]\n",
    "                xs.append(context)\n",
    "                ys.append(ix)\n",
    "                context = context[1:] + [ix]\n",
    "\n",
    "        self.xs = torch.tensor(xs, device=device)\n",
    "        self.ys = torch.tensor(ys, device=device)\n",
    "\n",
    "    def __len__(self):\n",
    "        return len(self.xs)\n",
    "    \n",
    "    def draw(self, batch_size: int = 32):\n",
    "        ix = torch.randint(0, len(self), (batch_size,))\n",
    "        return(self.xs[ix], self.ys[ix])"
   ]
  },
  {
   "attachments": {},
   "cell_type": "markdown",
   "metadata": {},
   "source": [
    "# Multilayer perceptron"
   ]
  },
  {
   "cell_type": "code",
   "execution_count": 50,
   "metadata": {},
   "outputs": [],
   "source": [
    "import sys\n",
    "\n",
    "def progress_bar(percent: float, bar_len: int = 20, front_str: str = '', back_str: str = ''):\n",
    "    sys.stdout.write(\"\\r\")\n",
    "    sys.stdout.write(\"{}[{:<{}}] {:.1%}{}\".format(front_str, \"=\" * int(bar_len * percent), bar_len, percent, back_str))\n",
    "    sys.stdout.flush()\n",
    "    # avoiding '%' appears when progress completed\n",
    "    if percent == 1:\n",
    "        print()"
   ]
  },
  {
   "cell_type": "code",
   "execution_count": 51,
   "metadata": {},
   "outputs": [],
   "source": [
    "import numpy as np\n",
    "import matplotlib.pyplot as plt\n",
    "\n",
    "def loss_curve(loss_ls):\n",
    "    plt.plot(np.reshape(loss_ls, (-1,)))\n",
    "    plt.xlabel('epoch')\n",
    "    plt.ylabel('cross entropy')\n",
    "    plt.grid('--')"
   ]
  },
  {
   "cell_type": "code",
   "execution_count": 56,
   "metadata": {},
   "outputs": [],
   "source": [
    "import torch.nn.functional as F\n",
    "\n",
    "class MLP_LM:\n",
    "    def __init__(self, context_size: int = 3, embed_size: int = 10, hidden_size: int = 200):\n",
    "        self.input_size = context_size * embed_size\n",
    "\n",
    "        g = torch.Generator().manual_seed(2147483647)\n",
    "\n",
    "        self.C = torch.randn((27, embed_size), generator=g).to(device)\n",
    "        self.W1 = torch.randn((self.input_size, hidden_size), generator=g).to(device)\n",
    "        self.b1 = torch.randn((hidden_size), generator=g).to(device)\n",
    "        self.W2 = torch.randn((hidden_size, 27), generator=g).to(device)\n",
    "        self.b2 = torch.randn((27), generator=g).to(device)\n",
    "        self.param = [self.C, self.W1, self.W2, self.b1, self.b2]\n",
    "\n",
    "    def forward(self, xs):\n",
    "        emb = self.C[xs]\n",
    "        h = torch.tanh(emb.view(-1, self.input_size) @ self.W1 + self.b1)\n",
    "        logits = h @ self.W2 + self.b2\n",
    "        return logits\n",
    "\n",
    "    def train(self, dataset, batch_size: int = 32, epochs: int = 10, lr: float = 1e-1):\n",
    "        for p in self.param:\n",
    "            p.requires_grad = True\n",
    "\n",
    "        loss_ls = []\n",
    "\n",
    "        for ix in range(epochs):\n",
    "            progress_bar((ix+1) / epochs, back_str=\"\\t learning rate {}\".format(lr))\n",
    "\n",
    "            # batch forward/backward pass\n",
    "            xs_batch, ys_batch = dataset.draw(batch_size)\n",
    "            logits = self.forward(xs_batch)\n",
    "            loss = F.cross_entropy(logits, ys_batch)\n",
    "            loss_ls.append(loss.item())\n",
    "\n",
    "            # gradient descent\n",
    "            for p in self.param:\n",
    "                p.grad = None\n",
    "            \n",
    "            loss.backward()\n",
    "\n",
    "            for p in self.param:\n",
    "                p.data += -lr * p.grad\n",
    "\n",
    "        return loss_ls\n",
    "\n",
    "    def eval(self, dataset, loss_str: str = ''):\n",
    "        xs, ys = dataset.xs, dataset.ys\n",
    "        logits = self.forward(xs)\n",
    "        loss = F.cross_entropy(logits, ys)\n",
    "        print(\"{} \\t {:.4f}\".format(loss_str, loss.item()))"
   ]
  },
  {
   "attachments": {},
   "cell_type": "markdown",
   "metadata": {},
   "source": [
    "# Hyper parameters"
   ]
  },
  {
   "cell_type": "code",
   "execution_count": 63,
   "metadata": {},
   "outputs": [
    {
     "name": "stdout",
     "output_type": "stream",
     "text": [
      "[====================] 100.0%\t learning rate 0.5\n",
      "train \t 2.8180\n",
      "dev \t 2.8617\n",
      "test \t 2.8697\n",
      "[====================] 100.0%\t learning rate 0.1\n",
      "train \t 2.2855\n",
      "dev \t 2.3286\n",
      "test \t 2.3204\n",
      "[====================] 100.0%\t learning rate 0.05\n",
      "train \t 2.2692\n",
      "dev \t 2.3114\n",
      "test \t 2.3052\n",
      "[====================] 100.0%\t learning rate 0.01\n",
      "train \t 2.2646\n",
      "dev \t 2.3067\n",
      "test \t 2.3004\n",
      "[====================] 100.0%\t learning rate 0.005\n",
      "train \t 2.2634\n",
      "dev \t 2.3057\n",
      "test \t 2.2987\n"
     ]
    },
    {
     "data": {
      "image/png": "[encoded data removed]",
      "text/plain": [
       "<Figure size 640x480 with 1 Axes>"
      ]
     },
     "metadata": {},
     "output_type": "display_data"
    }
   ],
   "source": [
    "# dataset\n",
    "context_size = 3\n",
    "trainset = Dataset(trainwords, context_size=context_size)\n",
    "devset = Dataset(devwords, context_size=context_size)\n",
    "testset = Dataset(testwords, context_size=context_size)\n",
    "\n",
    "# model init\n",
    "lm = MLP_LM(\n",
    "    context_size = context_size,\n",
    "    embed_size = 10,\n",
    "    hidden_size = 200,\n",
    "    )\n",
    "\n",
    "# train\n",
    "loss_ls = []\n",
    "\n",
    "for lr in [5e-1, 1e-1, 5e-2, 1e-2, 5e-3]:\n",
    "    loss_ls.append(lm.train(trainset, epochs=2000, batch_size=1000, lr=lr))\n",
    "\n",
    "    # eval\n",
    "    lm.eval(trainset, loss_str='train')\n",
    "    lm.eval(devset, loss_str='dev')\n",
    "    lm.eval(testset, loss_str='test')\n",
    "    \n",
    "loss_curve(loss_ls)\n"
   ]
  },
  {
   "cell_type": "code",
   "execution_count": 70,
   "metadata": {},
   "outputs": [
    {
     "name": "stdout",
     "output_type": "stream",
     "text": [
      "[====================] 100.0%\t learning rate 0.5\n",
      "train \t 2.9565\n",
      "dev \t 3.0231\n",
      "test \t 3.0306\n",
      "[====================] 100.0%\t learning rate 0.1\n",
      "train \t 2.2046\n",
      "dev \t 2.2656\n",
      "test \t 2.2596\n",
      "[====================] 100.0%\t learning rate 0.1\n",
      "train \t 2.1856\n",
      "dev \t 2.2456\n",
      "test \t 2.2413\n",
      "[====================] 100.0%\t learning rate 0.1\n",
      "train \t 2.1748\n",
      "dev \t 2.2336\n",
      "test \t 2.2292\n",
      "[====================] 100.0%\t learning rate 0.1\n",
      "train \t 2.1644\n",
      "dev \t 2.2246\n",
      "test \t 2.2191\n"
     ]
    },
    {
     "data": {
      "image/png": "[encoded data removed]",
      "text/plain": [
       "<Figure size 640x480 with 1 Axes>"
      ]
     },
     "metadata": {},
     "output_type": "display_data"
    }
   ],
   "source": [
    "# dataset\n",
    "context_size = 3\n",
    "trainset = Dataset(trainwords, context_size=context_size)\n",
    "devset = Dataset(devwords, context_size=context_size)\n",
    "testset = Dataset(testwords, context_size=context_size)\n",
    "\n",
    "# model init\n",
    "lm = MLP_LM(\n",
    "    context_size = context_size,\n",
    "    embed_size = 15,\n",
    "    hidden_size = 200,\n",
    "    )\n",
    "\n",
    "# train\n",
    "loss_ls = []\n",
    "\n",
    "for lr in [5e-1, 1e-1, 1e-1, 1e-1, 1e-1]:\n",
    "    loss_ls.append(lm.train(trainset, epochs=3000, batch_size=1000, lr=lr))\n",
    "    \n",
    "    # eval\n",
    "    lm.eval(trainset, loss_str='train')\n",
    "    lm.eval(devset, loss_str='dev')\n",
    "    lm.eval(testset, loss_str='test')\n",
    "\n",
    "loss_curve(loss_ls)"
   ]
  },
  {
   "cell_type": "code",
   "execution_count": 72,
   "metadata": {},
   "outputs": [
    {
     "name": "stdout",
     "output_type": "stream",
     "text": [
      "[====================] 100.0%\t learning rate 0.5\n",
      "train \t 2.5204\n",
      "dev \t 2.5752\n",
      "test \t 2.5608\n",
      "[====================] 100.0%\t learning rate 0.1\n",
      "train \t 2.1828\n",
      "dev \t 2.2324\n",
      "test \t 2.2274\n",
      "[====================] 100.0%\t learning rate 0.1\n",
      "train \t 2.1686\n",
      "dev \t 2.2217\n",
      "test \t 2.2153\n",
      "[====================] 100.0%\t learning rate 0.1\n",
      "train \t 2.1564\n",
      "dev \t 2.2111\n",
      "test \t 2.2039\n",
      "[====================] 100.0%\t learning rate 0.1\n",
      "train \t 2.1457\n",
      "dev \t 2.1999\n",
      "test \t 2.1951\n"
     ]
    },
    {
     "data": {
      "image/png": "[encoded data removed]",
      "text/plain": [
       "<Figure size 640x480 with 1 Axes>"
      ]
     },
     "metadata": {},
     "output_type": "display_data"
    }
   ],
   "source": [
    "# dataset\n",
    "context_size = 4\n",
    "trainset = Dataset(trainwords, context_size=context_size)\n",
    "devset = Dataset(devwords, context_size=context_size)\n",
    "testset = Dataset(testwords, context_size=context_size)\n",
    "\n",
    "# model init\n",
    "lm = MLP_LM(\n",
    "    context_size = context_size,\n",
    "    embed_size = 15,\n",
    "    hidden_size = 200,\n",
    "    )\n",
    "\n",
    "# train\n",
    "loss_ls = []\n",
    "\n",
    "for lr in [5e-1, 1e-1, 1e-1, 1e-1, 1e-1]:\n",
    "    loss_ls.append(lm.train(trainset, epochs=5000, batch_size=1000, lr=lr))\n",
    "    \n",
    "    # eval\n",
    "    lm.eval(trainset, loss_str='train')\n",
    "    lm.eval(devset, loss_str='dev')\n",
    "    lm.eval(testset, loss_str='test')\n",
    "\n",
    "loss_curve(loss_ls)"
   ]
  },
  {
   "cell_type": "code",
   "execution_count": null,
   "metadata": {},
   "outputs": [],
   "source": []
  }
 ],
 "metadata": {
  "kernelspec": {
   "display_name": "pytorch",
   "language": "python",
   "name": "python3"
  },
  "language_info": {
   "codemirror_mode": {
    "name": "ipython",
    "version": 3
   },
   "file_extension": ".py",
   "mimetype": "text/x-python",
   "name": "python",
   "nbconvert_exporter": "python",
   "pygments_lexer": "ipython3",
   "version": "3.9.16"
  },
  "orig_nbformat": 4
 },
 "nbformat": 4,
 "nbformat_minor": 2
}
