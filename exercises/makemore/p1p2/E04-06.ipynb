{
 "cells": [
  {
   "attachments": {},
   "cell_type": "markdown",
   "metadata": {},
   "source": [
    "> E01: train a trigram language model, i.e. take two characters as an input to predict the 3rd one. Feel free to use either counting or a neural net. Evaluate the loss; Did it improve over a bigram model?\n",
    "\n",
    "I used counting method to build the trigram. The loss drop from `2.476470470428467` to `2.092747449874878`, which is a good improvement."
   ]
  },
  {
   "attachments": {},
   "cell_type": "markdown",
   "metadata": {},
   "source": [
    "> E02: split up the dataset randomly into 80% train set, 10% dev set, 10% test set. Train the bigram and trigram models only on the training set. Evaluate them on dev and test splits. What can you see?\n",
    "\n",
    "|  | train | test | dev |\n",
    "| --- | --- | --- | --- |\n",
    "| bigram | `2.4550743103027344` | `2.454676628112793` | `2.4552478790283203` |\n",
    "| bigram_nn | `2.4748518466949463` | `2.4748964309692383`| `2.474271774291992` |\n",
    "| trigram | `2.095414876937866` | `2.1312243938446045` | `2.120994806289673` |\n",
    "| trigram_nn | `2.398813486099243` | `2.4096901416778564`| `2.402540683746338` |"
   ]
  },
  {
   "attachments": {},
   "cell_type": "markdown",
   "metadata": {},
   "source": [
    "> E03: use the dev set to tune the strength of smoothing (or regularization) for the trigram model - i.e. try many possibilities and see which one works best based on the dev set loss. What patterns can you see in the train and dev set loss as you tune this strength? Take the best setting of the smoothing and evaluate on the test set once and at the end. How good of a loss do you achieve?\n",
    "\n",
    "- Best smooth factor for statistics approach: `0.1`\n",
    "- Best smooth factor for neural network approach: `0.7`\n",
    "\n",
    "|  | train | test | dev |\n",
    "| --- | --- | --- | --- |\n",
    "| trigram | `2.0627923011779785` | `2.116626024246216` | `2.105022430419922` |\n",
    "| trigram_nn | `2.3957467079162598` | `2.417125940322876` | `2.4003849029541016` |"
   ]
  },
  {
   "attachments": {},
   "cell_type": "markdown",
   "metadata": {},
   "source": [
    "> E04: we saw that our 1-hot vectors merely select a row of W, so producing these vectors explicitly feels wasteful. Can you delete our use of F.one_hot in favor of simply indexing into rows of W?\n",
    "\n",
    "Crazy improvement of speed! Time needed for 100 epochs of training from `39.3`s down to just `3.5`s!"
   ]
  },
  {
   "attachments": {},
   "cell_type": "markdown",
   "metadata": {},
   "source": [
    "> E05: look up and use F.cross_entropy instead. You should achieve the same result. Can you think of why we'd prefer to use F.cross_entropy instead?\n",
    "\n",
    "It can save a lot of intermediate computation node. "
   ]
  },
  {
   "attachments": {},
   "cell_type": "markdown",
   "metadata": {},
   "source": [
    "> E06: meta-exercise! Think of a fun/interesting exercise and complete it.\n",
    "\n",
    "I add `step` parameter to the `train` function of trigram neural network with cross-entropy loss."
   ]
  },
  {
   "cell_type": "code",
   "execution_count": 2,
   "metadata": {},
   "outputs": [],
   "source": [
    "import torch\n",
    "\n",
    "if torch.backends.mps.is_available():\n",
    "    # device = torch.device('mps')\n",
    "    pass"
   ]
  },
  {
   "attachments": {},
   "cell_type": "markdown",
   "metadata": {},
   "source": [
    "# Data loading"
   ]
  },
  {
   "cell_type": "code",
   "execution_count": 3,
   "metadata": {},
   "outputs": [],
   "source": [
    "words = open('../../../data/names.txt', 'r').read().splitlines()"
   ]
  },
  {
   "cell_type": "code",
   "execution_count": 4,
   "metadata": {},
   "outputs": [
    {
     "data": {
      "text/plain": [
       "(['emma',\n",
       "  'olivia',\n",
       "  'ava',\n",
       "  'isabella',\n",
       "  'sophia',\n",
       "  'charlotte',\n",
       "  'mia',\n",
       "  'amelia',\n",
       "  'harper',\n",
       "  'evelyn'],\n",
       " 32033)"
      ]
     },
     "execution_count": 4,
     "metadata": {},
     "output_type": "execute_result"
    }
   ],
   "source": [
    "words[:10], len(words)"
   ]
  },
  {
   "cell_type": "code",
   "execution_count": 5,
   "metadata": {},
   "outputs": [],
   "source": [
    "g = torch.Generator().manual_seed(2147483647)\n",
    "trainset, devset, testset = torch.utils.data.random_split(words, [0.8, 0.1, 0.1])"
   ]
  },
  {
   "cell_type": "code",
   "execution_count": 6,
   "metadata": {},
   "outputs": [
    {
     "data": {
      "text/plain": [
       "(25627, 3203, 3203)"
      ]
     },
     "execution_count": 6,
     "metadata": {},
     "output_type": "execute_result"
    }
   ],
   "source": [
    "len(trainset), len(devset), len(testset)"
   ]
  },
  {
   "attachments": {},
   "cell_type": "markdown",
   "metadata": {},
   "source": [
    "# Trigram neural network"
   ]
  },
  {
   "cell_type": "code",
   "execution_count": 11,
   "metadata": {},
   "outputs": [],
   "source": [
    "import torch.nn.functional as F\n",
    "import matplotlib.pyplot as plt\n",
    "\n",
    "class Bigram_NN:\n",
    "    def __init__(self):\n",
    "        g = torch.Generator().manual_seed(2147483647)\n",
    "        self.W = torch.randn((27, 27), generator=g, requires_grad=True)\n",
    "\n",
    "    def loaddata(self, dataset):\n",
    "        chars = sorted(list(set(''.join(dataset))))\n",
    "        self.stoi = {s:i+1 for i,s in enumerate(chars)}\n",
    "        self.stoi['.'] = 0\n",
    "        self.itos = {i:s for s,i in self.stoi.items()}\n",
    "\n",
    "        xs, ys = [], []\n",
    "\n",
    "        for w in dataset:\n",
    "            chs = ['.'] + list(w) + ['.']\n",
    "\n",
    "            for ch1, ch2 in zip(chs, chs[1:]):\n",
    "                ix1 = self.stoi[ch1]\n",
    "                ix2 = self.stoi[ch2]\n",
    "                xs.append(ix1)\n",
    "                ys.append(ix2)\n",
    "\n",
    "        self.xs = torch.tensor(xs)\n",
    "        self.ys = torch.tensor(ys)\n",
    "\n",
    "    def forward_pass(self, xs):\n",
    "        xenc = F.one_hot(xs, num_classes=27).float()\n",
    "        logits = xenc @ self.W\n",
    "        counts = logits.exp()\n",
    "        probs = counts / counts.sum(1, keepdims=True)\n",
    "\n",
    "        return probs\n",
    "    \n",
    "    def train(self, epoch, is_print = True, is_draw = False):\n",
    "        if is_draw:\n",
    "            loss_ls = []\n",
    "\n",
    "        for k in range(epoch):\n",
    "            self.W.grad = None\n",
    "\n",
    "            probs = self.forward_pass(self.xs)\n",
    "            loss = -probs[torch.arange(self.xs.nelement()), self.ys].log().mean() + 0.01*(self.W**2).mean()\n",
    "\n",
    "            if is_print:\n",
    "                print('epoch: {} loss: {}'.format(k, loss.item()))\n",
    "\n",
    "            if is_draw:\n",
    "                loss_ls.append(loss.item())\n",
    "            \n",
    "            loss.backward()\n",
    "\n",
    "            self.W.data += -50 * self.W.grad\n",
    "\n",
    "        if is_draw:\n",
    "            plt.plot(loss_ls)\n",
    "\n",
    "            plt.title('loss curve')\n",
    "            plt.grid(linestyle='--')\n",
    "            plt.xlabel('epoches')\n",
    "            plt.ylabel('mean negative log-likelihood')\n",
    "\n",
    "    def sample(self, num):\n",
    "        g = torch.Generator().manual_seed(2147483647)\n",
    "\n",
    "        for i in range(num):\n",
    "            out = []\n",
    "            ix = 0\n",
    "            \n",
    "            # continue token\n",
    "            while True:\n",
    "                p = self.forward_pass(torch.tensor([ix, ]))[0]\n",
    "                ix = torch.multinomial(p, num_samples=1, replacement=True, generator=g).item()\n",
    "                out.append(self.itos[ix])\n",
    "                \n",
    "                if ix == 0:\n",
    "                    break\n",
    "                \n",
    "            print(''.join(out))\n",
    "\n",
    "    def eval(self, dataset, is_print = True):\n",
    "        log_likelihood = 0.0\n",
    "        n = 0\n",
    "\n",
    "        xs, ys = [], []\n",
    "\n",
    "        for w in dataset:\n",
    "            chs = ['.'] + list(w) + ['.']\n",
    "\n",
    "            for ch1, ch2 in zip(chs, chs[1:]):\n",
    "                ix1 = self.stoi[ch1]\n",
    "                ix2 = self.stoi[ch2]\n",
    "                xs.append(ix1)\n",
    "                ys.append(ix2)\n",
    "\n",
    "        xs = torch.tensor(xs)\n",
    "        ys = torch.tensor(ys)\n",
    "        probs = self.forward_pass(xs)\n",
    "        log_likelihood = probs[torch.arange(xs.nelement()), ys].log().sum()\n",
    "        nll = -log_likelihood\n",
    "        mnll = nll / len(xs)\n",
    "\n",
    "        if is_print:\n",
    "            print(f'{log_likelihood=}')\n",
    "            print(f'{nll=}')\n",
    "            print(f'{mnll}')\n",
    "\n",
    "        return mnll"
   ]
  },
  {
   "cell_type": "code",
   "execution_count": 8,
   "metadata": {},
   "outputs": [],
   "source": [
    "class Trigram_NN(Bigram_NN):\n",
    "    def __init__(self):\n",
    "        g = torch.Generator().manual_seed(2147483647)\n",
    "        self.W = torch.randn((27 * 27, 27), generator=g, requires_grad=True)\n",
    "\n",
    "    def loaddata(self, dataset):\n",
    "        chars = sorted(list(set(''.join(dataset))))\n",
    "        self.stoi = {s:i+1 for i,s in enumerate(chars)}\n",
    "        self.stoi['.'] = 0\n",
    "        self.itos = {i:s for s,i in self.stoi.items()}\n",
    "\n",
    "        xs, ys = [], []\n",
    "\n",
    "        for w in dataset:\n",
    "            chs = ['.'] + list(w) + ['.']\n",
    "\n",
    "            for ch1, ch2, ch3 in zip(chs, chs[1:], chs[2:]):\n",
    "                ix1 = self.stoi[ch1]\n",
    "                ix2 = self.stoi[ch2]\n",
    "                ix3 = self.stoi[ch3]\n",
    "                xs.append(27 * ix1 + ix2)\n",
    "                ys.append(ix3)\n",
    "\n",
    "        self.xs = torch.tensor(xs)\n",
    "        self.ys = torch.tensor(ys)\n",
    "\n",
    "    def forward_pass(self, xs):\n",
    "        xenc = F.one_hot(xs, num_classes=27 * 27).float()\n",
    "        logits = xenc @ self.W\n",
    "        counts = logits.exp()\n",
    "        probs = counts / counts.sum(1, keepdims=True)\n",
    "\n",
    "        return probs\n",
    "\n",
    "    def sample(self, num):\n",
    "        g = torch.Generator().manual_seed(2147483647)\n",
    "\n",
    "        for i in range(num):\n",
    "            out = []\n",
    "            ixs = self.xs[self.xs < 27]\n",
    "            idx_rand = torch.randint(len(ixs), (1, ))\n",
    "            ix = ixs[idx_rand]\n",
    "            \n",
    "            # continue token\n",
    "            while True:\n",
    "                p = self.forward_pass(torch.tensor([ix, ]))[0]\n",
    "                ix = torch.multinomial(p, num_samples=1, replacement=True, generator=g).item()\n",
    "                out.append(self.itos[ix])\n",
    "                \n",
    "                if ix == 0:\n",
    "                    break\n",
    "                \n",
    "            print(''.join(out))\n",
    "\n",
    "    def eval(self, dataset, is_print = True):\n",
    "        log_likelihood = 0.0\n",
    "        n = 0\n",
    "\n",
    "        xs, ys = [], []\n",
    "\n",
    "        for w in dataset:\n",
    "            chs = ['.'] + list(w) + ['.']\n",
    "\n",
    "            for ch1, ch2, ch3 in zip(chs, chs[1:], chs[2:]):\n",
    "                ix1 = self.stoi[ch1]\n",
    "                ix2 = self.stoi[ch2]\n",
    "                ix3 = self.stoi[ch3]\n",
    "                xs.append(27 * ix1 + ix2)\n",
    "                ys.append(ix3)\n",
    "\n",
    "        xs = torch.tensor(xs)\n",
    "        ys = torch.tensor(ys)\n",
    "        probs = self.forward_pass(xs)\n",
    "        log_likelihood = probs[torch.arange(xs.nelement()), ys].log().sum()\n",
    "        nll = -log_likelihood\n",
    "        mnll = nll / len(xs)\n",
    "\n",
    "        if is_print:\n",
    "            print(f'{log_likelihood=}')\n",
    "            print(f'{nll=}')\n",
    "            print(f'{mnll}')\n",
    "\n",
    "        return mnll"
   ]
  },
  {
   "cell_type": "code",
   "execution_count": 9,
   "metadata": {},
   "outputs": [],
   "source": [
    "class Trigram_NN_tune(Trigram_NN):\n",
    "    def train(self, epoch, smooth_factor = 0.01, is_print = True, is_draw = False):\n",
    "        if is_draw:\n",
    "            loss_ls = []\n",
    "\n",
    "        for k in range(epoch):\n",
    "            self.W.grad = None\n",
    "\n",
    "            probs = self.forward_pass(self.xs)\n",
    "            loss = -probs[torch.arange(self.xs.nelement()), self.ys].log().mean() + smooth_factor * (self.W**2).mean()\n",
    "\n",
    "            if is_print:\n",
    "                print('epoch: {} loss: {}'.format(k, loss.item()))\n",
    "\n",
    "            if is_draw:\n",
    "                loss_ls.append(loss.item())\n",
    "            \n",
    "            loss.backward()\n",
    "\n",
    "            self.W.data += -50 * self.W.grad\n",
    "\n",
    "        if is_draw:\n",
    "            plt.plot(loss_ls)\n",
    "\n",
    "            plt.title('loss curve')\n",
    "            plt.grid(linestyle='--')\n",
    "            plt.xlabel('epoches')\n",
    "            plt.ylabel('mean negative log-likelihood')"
   ]
  },
  {
   "attachments": {},
   "cell_type": "markdown",
   "metadata": {},
   "source": [
    "# Trigram neural network without 1-hot input"
   ]
  },
  {
   "cell_type": "code",
   "execution_count": 22,
   "metadata": {},
   "outputs": [],
   "source": [
    "class Trigram_NN_x1hot(Trigram_NN_tune):\n",
    "    def forward_pass(self, xs):\n",
    "        logits = torch.index_select(self.W, 0, xs)\n",
    "        counts = logits.exp()\n",
    "        probs = counts / counts.sum(1, keepdims=True)\n",
    "\n",
    "        return probs"
   ]
  },
  {
   "cell_type": "code",
   "execution_count": 23,
   "metadata": {},
   "outputs": [],
   "source": [
    "trigram_nn = Trigram_NN_x1hot()\n",
    "trigram_nn.loaddata(trainset)\n",
    "trigram_nn.train(100, is_print=False, is_draw=False, smooth_factor=0.7)"
   ]
  },
  {
   "cell_type": "code",
   "execution_count": 37,
   "metadata": {},
   "outputs": [
    {
     "name": "stdout",
     "output_type": "stream",
     "text": [
      "==================================================\n",
      "train\n",
      "--------------------------------------------------\n",
      "log_likelihood=tensor(-375974.1250, grad_fn=<SumBackward0>)\n",
      "nll=tensor(375974.1250, grad_fn=<NegBackward0>)\n",
      "2.3957467079162598\n",
      "==================================================\n",
      "dev\n",
      "--------------------------------------------------\n",
      "log_likelihood=tensor(-47283.8164, grad_fn=<SumBackward0>)\n",
      "nll=tensor(47283.8164, grad_fn=<NegBackward0>)\n",
      "2.417125940322876\n",
      "==================================================\n",
      "test\n",
      "--------------------------------------------------\n",
      "log_likelihood=tensor(-47088.3516, grad_fn=<SumBackward0>)\n",
      "nll=tensor(47088.3516, grad_fn=<NegBackward0>)\n",
      "2.4003849029541016\n"
     ]
    },
    {
     "data": {
      "text/plain": [
       "tensor(2.4004, grad_fn=<DivBackward0>)"
      ]
     },
     "execution_count": 37,
     "metadata": {},
     "output_type": "execute_result"
    }
   ],
   "source": [
    "print('='*50 + '\\ntrain\\n' + '-'*50)\n",
    "trigram_nn.eval(trainset)\n",
    "\n",
    "print('='*50 + '\\ndev\\n' + '-'*50)\n",
    "trigram_nn.eval(devset)\n",
    "\n",
    "print('='*50 + '\\ntest\\n' + '-'*50)\n",
    "trigram_nn.eval(testset)"
   ]
  },
  {
   "attachments": {},
   "cell_type": "markdown",
   "metadata": {},
   "source": [
    "# Trigram neural network with cross-entropy"
   ]
  },
  {
   "cell_type": "code",
   "execution_count": 50,
   "metadata": {},
   "outputs": [],
   "source": [
    "class Trigram_NN_cross_entropy(Trigram_NN_x1hot):\n",
    "    def forward_pass(self, xs):\n",
    "        return torch.index_select(self.W, 0, xs)\n",
    "    \n",
    "    def probs(self, xs):\n",
    "        logits = torch.index_select(self.W, 0, xs)\n",
    "        counts = logits.exp()\n",
    "        probs = counts / counts.sum(1, keepdims=True)\n",
    "\n",
    "        return probs\n",
    "\n",
    "    def train(self, epoch, is_print = True, is_draw = False, smooth_factor = 0.01, step = 50):\n",
    "        if is_draw:\n",
    "            loss_ls = []\n",
    "\n",
    "        for k in range(epoch):\n",
    "            self.W.grad = None\n",
    "\n",
    "            logits = self.forward_pass(self.xs)\n",
    "            loss = F.cross_entropy(logits, self.ys) + smooth_factor * (self.W**2).mean()\n",
    "\n",
    "            if is_print:\n",
    "                print('epoch: {} loss: {}'.format(k, loss.item()))\n",
    "\n",
    "            if is_draw:\n",
    "                loss_ls.append(loss.item())\n",
    "            \n",
    "            loss.backward()\n",
    "\n",
    "            self.W.data += -step * self.W.grad\n",
    "\n",
    "        if is_draw:\n",
    "            plt.plot(loss_ls)\n",
    "\n",
    "            plt.title('loss curve')\n",
    "            plt.grid(linestyle='--')\n",
    "            plt.xlabel('epoches')\n",
    "            plt.ylabel('mean negative log-likelihood')\n",
    "\n",
    "    def sample(self, num):\n",
    "        g = torch.Generator().manual_seed(2147483647)\n",
    "\n",
    "        for i in range(num):\n",
    "            out = []\n",
    "            ixs = self.xs[self.xs < 27]\n",
    "            idx_rand = torch.randint(len(ixs), (1, ))\n",
    "            ix = ixs[idx_rand]\n",
    "            \n",
    "            # continue token\n",
    "            while True:\n",
    "                p = self.probs(torch.tensor([ix, ]))[0]\n",
    "                ix = torch.multinomial(p, num_samples=1, replacement=True, generator=g).item()\n",
    "                out.append(self.itos[ix])\n",
    "                \n",
    "                if ix == 0:\n",
    "                    break\n",
    "                \n",
    "            print(''.join(out))\n",
    "\n",
    "    def eval(self, dataset, is_print = True):\n",
    "        log_likelihood = 0.0\n",
    "        n = 0\n",
    "\n",
    "        xs, ys = [], []\n",
    "\n",
    "        for w in dataset:\n",
    "            chs = ['.'] + list(w) + ['.']\n",
    "\n",
    "            for ch1, ch2, ch3 in zip(chs, chs[1:], chs[2:]):\n",
    "                ix1 = self.stoi[ch1]\n",
    "                ix2 = self.stoi[ch2]\n",
    "                ix3 = self.stoi[ch3]\n",
    "                xs.append(27 * ix1 + ix2)\n",
    "                ys.append(ix3)\n",
    "\n",
    "        xs = torch.tensor(xs)\n",
    "        ys = torch.tensor(ys)\n",
    "        probs = self.probs(xs)\n",
    "        log_likelihood = probs[torch.arange(xs.nelement()), ys].log().sum()\n",
    "        nll = -log_likelihood\n",
    "        mnll = nll / len(xs)\n",
    "\n",
    "        if is_print:\n",
    "            print(f'{log_likelihood=}')\n",
    "            print(f'{nll=}')\n",
    "            print(f'{mnll}')\n",
    "\n",
    "        return mnll"
   ]
  },
  {
   "cell_type": "code",
   "execution_count": 51,
   "metadata": {},
   "outputs": [
    {
     "data": {
      "image/png": "[encoded data removed]",
      "text/plain": [
       "<Figure size 640x480 with 1 Axes>"
      ]
     },
     "metadata": {},
     "output_type": "display_data"
    }
   ],
   "source": [
    "trigram_nn = Trigram_NN_cross_entropy()\n",
    "trigram_nn.loaddata(trainset)\n",
    "trigram_nn.train(500, is_print=False, is_draw=True, smooth_factor=0.7, step=100)\n",
    "# trigram_nn.train(100, is_print=False, is_draw=True)"
   ]
  },
  {
   "cell_type": "code",
   "execution_count": 52,
   "metadata": {},
   "outputs": [
    {
     "name": "stdout",
     "output_type": "stream",
     "text": [
      "luwidediliaqazoprofayoadanavaiiritolemasarezavilanaauyamileviaskdbdainrwimelesejainayvarolofavaumaryfoltumjanonasuwahamanirhoraayaezocarajaabriwedemiifmayfinevisasnhaviimomazahadgosfmananoilu.\n",
      "elemalaryatiryareli.\n",
      "isamuyerumjemujemaluupwyalevavcararorydahufrortanapayosbrevisuiqzavmaocblihamimayawathf.\n",
      "anelaloleshatikemsaloevevinanolwkfabrenemadanolaryawimuralodridrdzeolialilpargraitezraleliquvywhqelvaviosahibrhauelazmimwisasabarinaliwalipixtewyosgrewfdadenelavjankesoranajresadomanolyabrelihanazyodabrufuolwiasatelytilabujadasavenjayalyudfrequladoshatalalokamalefadmanistfalamadedihavigaojarasyqiviob.\n",
      "uzisugogidenalgujhamovrafrlaglyuraluohanotraryalirsoirevihaipalkanvjapashizamaulnaneicvatavryaelashbrlazsalauyalihouejbiotzyproabhihadisaubralamorvanarauuzalazyarhavrolisabadayraufbraqdocowyalabzazevadanohanokemetamlelelonakanyinaastanitcyonanisemyanawwisxilemcharekanaljagkjamifizafaminayaularovyab.\n"
     ]
    }
   ],
   "source": [
    "trigram_nn.sample(5)"
   ]
  },
  {
   "cell_type": "code",
   "execution_count": 53,
   "metadata": {},
   "outputs": [
    {
     "name": "stdout",
     "output_type": "stream",
     "text": [
      "==================================================\n",
      "train\n",
      "--------------------------------------------------\n",
      "log_likelihood=tensor(-350730.3125, grad_fn=<SumBackward0>)\n",
      "nll=tensor(350730.3125, grad_fn=<NegBackward0>)\n",
      "2.2348904609680176\n",
      "==================================================\n",
      "dev\n",
      "--------------------------------------------------\n",
      "log_likelihood=tensor(-44216.3203, grad_fn=<SumBackward0>)\n",
      "nll=tensor(44216.3203, grad_fn=<NegBackward0>)\n",
      "2.260316848754883\n",
      "==================================================\n",
      "test\n",
      "--------------------------------------------------\n",
      "log_likelihood=tensor(-44072.6055, grad_fn=<SumBackward0>)\n",
      "nll=tensor(44072.6055, grad_fn=<NegBackward0>)\n",
      "2.2466537952423096\n"
     ]
    },
    {
     "data": {
      "text/plain": [
       "tensor(2.2467, grad_fn=<DivBackward0>)"
      ]
     },
     "execution_count": 53,
     "metadata": {},
     "output_type": "execute_result"
    }
   ],
   "source": [
    "print('='*50 + '\\ntrain\\n' + '-'*50)\n",
    "trigram_nn.eval(trainset)\n",
    "\n",
    "print('='*50 + '\\ndev\\n' + '-'*50)\n",
    "trigram_nn.eval(devset)\n",
    "\n",
    "print('='*50 + '\\ntest\\n' + '-'*50)\n",
    "trigram_nn.eval(testset)"
   ]
  },
  {
   "cell_type": "code",
   "execution_count": null,
   "metadata": {},
   "outputs": [],
   "source": []
  }
 ],
 "metadata": {
  "kernelspec": {
   "display_name": "Python 3",
   "language": "python",
   "name": "python3"
  },
  "language_info": {
   "codemirror_mode": {
    "name": "ipython",
    "version": 3
   },
   "file_extension": ".py",
   "mimetype": "text/x-python",
   "name": "python",
   "nbconvert_exporter": "python",
   "pygments_lexer": "ipython3",
   "version": "3.9.16"
  }
 },
 "nbformat": 4,
 "nbformat_minor": 4
}
