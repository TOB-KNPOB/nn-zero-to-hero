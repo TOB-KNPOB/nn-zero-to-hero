{
 "cells": [
  {
   "attachments": {},
   "cell_type": "markdown",
   "metadata": {},
   "source": [
    "> E01: train a trigram language model, i.e. take two characters as an input to predict the 3rd one. Feel free to use either counting or a neural net. Evaluate the loss; Did it improve over a bigram model?\n",
    "\n",
    "I used counting method to build the trigram. The loss drop from `2.476470470428467` to `2.092747449874878`, which is a good improvement."
   ]
  },
  {
   "attachments": {},
   "cell_type": "markdown",
   "metadata": {},
   "source": [
    "> E02: split up the dataset randomly into 80% train set, 10% dev set, 10% test set. Train the bigram and trigram models only on the training set. Evaluate them on dev and test splits. What can you see?\n",
    "\n",
    "|  | train | test | dev |\n",
    "| --- | --- | --- | --- |\n",
    "| bigram | `2.4550743103027344` | `2.454676628112793` | `2.4552478790283203` |\n",
    "| bigram_nn | `2.4748518466949463` | `2.4748964309692383`| `2.474271774291992` |\n",
    "| trigram | `2.095414876937866` | `2.1312243938446045` | `2.120994806289673` |\n",
    "| trigram_nn | `2.398813486099243` | `2.4096901416778564`| `2.402540683746338` |"
   ]
  },
  {
   "attachments": {},
   "cell_type": "markdown",
   "metadata": {},
   "source": [
    "> E03: use the dev set to tune the strength of smoothing (or regularization) for the trigram model - i.e. try many possibilities and see which one works best based on the dev set loss. What patterns can you see in the train and dev set loss as you tune this strength? Take the best setting of the smoothing and evaluate on the test set once and at the end. How good of a loss do you achieve?\n",
    "\n",
    "- Best smooth factor for statistics approach: `0.1`\n",
    "- Best smooth factor for neural network approach: `0.7`\n",
    "\n",
    "|  | train | test | dev |\n",
    "| --- | --- | --- | --- |\n",
    "| trigram | `2.0627923011779785` | `2.116626024246216` | `2.105022430419922` |\n",
    "| trigram_nn | `2.396538734436035` | `2.4072999954223633` | `2.4006965160369873` |"
   ]
  },
  {
   "attachments": {},
   "cell_type": "markdown",
   "metadata": {},
   "source": [
    "> E04: we saw that our 1-hot vectors merely select a row of W, so producing these vectors explicitly feels wasteful. Can you delete our use of F.one_hot in favor of simply indexing into rows of W?"
   ]
  },
  {
   "attachments": {},
   "cell_type": "markdown",
   "metadata": {},
   "source": [
    "> E05: look up and use F.cross_entropy instead. You should achieve the same result. Can you think of why we'd prefer to use F.cross_entropy instead?"
   ]
  },
  {
   "attachments": {},
   "cell_type": "markdown",
   "metadata": {},
   "source": [
    "> E06: meta-exercise! Think of a fun/interesting exercise and complete it."
   ]
  },
  {
   "cell_type": "code",
   "execution_count": 49,
   "metadata": {},
   "outputs": [],
   "source": [
    "import torch\n",
    "\n",
    "if torch.backends.mps.is_available():\n",
    "    # device = torch.device('mps')\n",
    "    pass"
   ]
  },
  {
   "attachments": {},
   "cell_type": "markdown",
   "metadata": {},
   "source": [
    "# Data loading"
   ]
  },
  {
   "cell_type": "code",
   "execution_count": 50,
   "metadata": {},
   "outputs": [],
   "source": [
    "words = open('../../../data/names.txt', 'r').read().splitlines()"
   ]
  },
  {
   "cell_type": "code",
   "execution_count": 51,
   "metadata": {},
   "outputs": [
    {
     "data": {
      "text/plain": [
       "(['emma',\n",
       "  'olivia',\n",
       "  'ava',\n",
       "  'isabella',\n",
       "  'sophia',\n",
       "  'charlotte',\n",
       "  'mia',\n",
       "  'amelia',\n",
       "  'harper',\n",
       "  'evelyn'],\n",
       " 32033)"
      ]
     },
     "execution_count": 51,
     "metadata": {},
     "output_type": "execute_result"
    }
   ],
   "source": [
    "words[:10], len(words)"
   ]
  },
  {
   "cell_type": "code",
   "execution_count": 52,
   "metadata": {},
   "outputs": [],
   "source": [
    "g = torch.Generator().manual_seed(2147483647)\n",
    "trainset, devset, testset = torch.utils.data.random_split(words, [0.8, 0.1, 0.1])"
   ]
  },
  {
   "cell_type": "code",
   "execution_count": 53,
   "metadata": {},
   "outputs": [
    {
     "data": {
      "text/plain": [
       "(25627, 3203, 3203)"
      ]
     },
     "execution_count": 53,
     "metadata": {},
     "output_type": "execute_result"
    }
   ],
   "source": [
    "len(trainset), len(devset), len(testset)"
   ]
  },
  {
   "attachments": {},
   "cell_type": "markdown",
   "metadata": {},
   "source": [
    "# Trigram model"
   ]
  },
  {
   "cell_type": "code",
   "execution_count": 54,
   "metadata": {},
   "outputs": [],
   "source": [
    "class Trigram:\n",
    "    def loaddata(self, dataset):\n",
    "        self.dataset = dataset\n",
    "\n",
    "    def count(self):\n",
    "        self.gram = {}\n",
    "\n",
    "        for w in self.dataset:\n",
    "            chs = ['<S>'] + list(w) + ['<E>']\n",
    "\n",
    "            for ch1, ch2, ch3 in zip(chs, chs[1:], chs[2:]):\n",
    "                trigram = (ch1, ch2, ch3)\n",
    "                self.gram[trigram] = self.gram.get(trigram, 0) + 1\n",
    "\n",
    "        chars = sorted(list(set(''.join(trainset))))\n",
    "        self.stoi = {s:i+1 for i,s in enumerate(chars)}\n",
    "        self.stoi['.'] = 0\n",
    "        self.itos = {i:s for s,i in self.stoi.items()}\n",
    "\n",
    "    def prob(self):\n",
    "        self.N = torch.zeros((27 * 27, 27), dtype=torch.int32)\n",
    "\n",
    "        for w in trainset:\n",
    "            chs = ['.'] + list(w) + ['.']\n",
    "            \n",
    "            for ch1, ch2, ch3 in zip(chs, chs[1:], chs[2:]):\n",
    "                ix1 = self.stoi[ch1]\n",
    "                ix2 = self.stoi[ch2]\n",
    "                ix3 = self.stoi[ch3]\n",
    "                self.N[ix1 * 27 + ix2, ix3] += 1\n",
    "\n",
    "        self.P = self.N.float() + 1\n",
    "        self.P /= self.P.sum(1, keepdim=True)\n",
    "\n",
    "    def sample(self, num):\n",
    "        g = torch.Generator().manual_seed(2147483647)\n",
    "\n",
    "        for i in range(num):\n",
    "            out = []\n",
    "\n",
    "            # start token\n",
    "            N_start = self.N[:27, :].sum(1)\n",
    "            p_start = N_start / N_start.sum()\n",
    "            p_start.sum()\n",
    "\n",
    "            ix = torch.multinomial(p_start, num_samples=1, replacement=True, generator=g).item()\n",
    "            ix1 = ix // 27\n",
    "            ix2 = ix - ix1 * 27\n",
    "            \n",
    "            # continue token\n",
    "            while True:\n",
    "                p = self.P[ix]\n",
    "\n",
    "                ix1 = ix2\n",
    "                ix2 = torch.multinomial(p, num_samples=1, replacement=True, generator=g).item()\n",
    "\n",
    "                ix = 27 * ix1 + ix2\n",
    "                \n",
    "                out.append(self.itos[ix2])\n",
    "                \n",
    "                if ix2 == 0:\n",
    "                    break\n",
    "                \n",
    "            print(''.join(out))\n",
    "\n",
    "    def eval(self, dataset, is_print = True):\n",
    "        log_likelihood = 0.0\n",
    "        n = 0\n",
    "\n",
    "        for w in dataset:\n",
    "        # for w in [\"andrejq\"]:\n",
    "            chs = ['.'] + list(w) + ['.']\n",
    "            \n",
    "            for ch1, ch2, ch3 in zip(chs, chs[1:], chs[2:]):\n",
    "                ix1 = self.stoi[ch1]\n",
    "                ix2 = self.stoi[ch2]\n",
    "                ix3 = self.stoi[ch3]\n",
    "\n",
    "                prob = self.P[27 * ix1 + ix2, ix3]\n",
    "                logprob = torch.log(prob)\n",
    "                log_likelihood += logprob\n",
    "                n += 1\n",
    "\n",
    "        nll = -log_likelihood\n",
    "        mnll = nll/n\n",
    "\n",
    "        if is_print:\n",
    "            print(f'{log_likelihood=}')\n",
    "            print(f'{nll=}')\n",
    "            print(f'{mnll}')\n",
    "\n",
    "        return mnll"
   ]
  },
  {
   "cell_type": "code",
   "execution_count": 55,
   "metadata": {},
   "outputs": [],
   "source": [
    "import matplotlib.pyplot as plt\n",
    "\n",
    "def draw_matrix(matrix, aspect_ratio = 1):\n",
    "    plt.imshow(matrix, cmap='Blues')\n",
    "    plt.gca().set_aspect(aspect_ratio)"
   ]
  },
  {
   "attachments": {},
   "cell_type": "markdown",
   "metadata": {},
   "source": [
    "## Trigram with tuneable smoothing factor"
   ]
  },
  {
   "cell_type": "code",
   "execution_count": 56,
   "metadata": {},
   "outputs": [],
   "source": [
    "class Trigram_tune(Trigram):\n",
    "    def prob(self, smooth = 1):\n",
    "        self.N = torch.zeros((27 * 27, 27), dtype=torch.int32)\n",
    "\n",
    "        for w in trainset:\n",
    "            chs = ['.'] + list(w) + ['.']\n",
    "            \n",
    "            for ch1, ch2, ch3 in zip(chs, chs[1:], chs[2:]):\n",
    "                ix1 = self.stoi[ch1]\n",
    "                ix2 = self.stoi[ch2]\n",
    "                ix3 = self.stoi[ch3]\n",
    "                self.N[ix1 * 27 + ix2, ix3] += 1\n",
    "\n",
    "        self.P = self.N.float() + smooth\n",
    "        self.P /= self.P.sum(1, keepdim=True)"
   ]
  },
  {
   "cell_type": "code",
   "execution_count": 57,
   "metadata": {},
   "outputs": [],
   "source": [
    "import sys\n",
    "\n",
    "def progress_bar(percent: float, bar_len: int = 20, front_str: str = '', back_str: str = ''):\n",
    "    sys.stdout.write(\"\\r\")\n",
    "    sys.stdout.write(\"{}[{:<{}}] {:.1%}{}\".format(front_str, \"=\" * int(bar_len * percent), bar_len, percent, back_str))\n",
    "    sys.stdout.flush()\n",
    "    # avoiding '%' appears when progress completed\n",
    "    if percent == 1:\n",
    "        print()"
   ]
  },
  {
   "cell_type": "code",
   "execution_count": 58,
   "metadata": {},
   "outputs": [],
   "source": [
    "trigram = Trigram_tune()\n",
    "trigram.loaddata(devset)\n",
    "trigram.count()\n",
    "trigram.prob()"
   ]
  },
  {
   "cell_type": "code",
   "execution_count": 59,
   "metadata": {},
   "outputs": [
    {
     "name": "stdout",
     "output_type": "stream",
     "text": [
      "[====================] 100.0% 9/9\n"
     ]
    }
   ],
   "source": [
    "smooth_ls = [0.1, 1, 2, 3, 4, 5, 10, 20, 30]\n",
    "loss_dev = []\n",
    "loss_train = []\n",
    "\n",
    "trigram = Trigram_tune()\n",
    "trigram.loaddata(devset)\n",
    "trigram.count()\n",
    "\n",
    "for id in range(len(smooth_ls)):\n",
    "    s = smooth_ls[id]\n",
    "    trigram.prob(smooth=s)\n",
    "    loss_dev.append(trigram.eval(devset, is_print=False))\n",
    "    loss_train.append(trigram.eval(trainset, is_print=False))\n",
    "\n",
    "    progress_bar((id+1)/len(smooth_ls), back_str=' {}/{}'.format(id+1, len(smooth_ls)))"
   ]
  },
  {
   "cell_type": "code",
   "execution_count": 60,
   "metadata": {},
   "outputs": [
    {
     "data": {
      "text/plain": [
       "<matplotlib.legend.Legend at 0x7f8b69f9bd00>"
      ]
     },
     "execution_count": 60,
     "metadata": {},
     "output_type": "execute_result"
    },
    {
     "data": {
      "image/png": "[encoded data removed]",
      "text/plain": [
       "<Figure size 640x480 with 1 Axes>"
      ]
     },
     "metadata": {},
     "output_type": "display_data"
    }
   ],
   "source": [
    "plt.plot(smooth_ls, loss_dev, color='gold', label='dev loss')\n",
    "plt.plot(smooth_ls, loss_train, color='teal', label='train loss')\n",
    "\n",
    "plt.title('loss')\n",
    "plt.grid(linestyle='--')\n",
    "plt.xlabel('smooth factor')\n",
    "plt.ylabel('mean negative log-likelihood')\n",
    "plt.legend(loc='lower right')"
   ]
  },
  {
   "attachments": {},
   "cell_type": "markdown",
   "metadata": {},
   "source": [
    "## Best smooth factor"
   ]
  },
  {
   "cell_type": "code",
   "execution_count": 61,
   "metadata": {},
   "outputs": [],
   "source": [
    "trigram = Trigram_tune()\n",
    "trigram.loaddata(trainset)\n",
    "trigram.count()\n",
    "trigram.prob(smooth=0.1)"
   ]
  },
  {
   "cell_type": "code",
   "execution_count": 62,
   "metadata": {},
   "outputs": [
    {
     "name": "stdout",
     "output_type": "stream",
     "text": [
      "==================================================\n",
      "train\n",
      "--------------------------------------------------\n",
      "log_likelihood=tensor(-323783.9375)\n",
      "nll=tensor(323783.9375)\n",
      "2.063750982284546\n",
      "==================================================\n",
      "dev\n",
      "--------------------------------------------------\n",
      "log_likelihood=tensor(-41556.0508)\n",
      "nll=tensor(41556.0508)\n",
      "2.110515594482422\n",
      "==================================================\n",
      "test\n",
      "--------------------------------------------------\n",
      "log_likelihood=tensor(-41099.3789)\n",
      "nll=tensor(41099.3789)\n",
      "2.1042075157165527\n"
     ]
    },
    {
     "data": {
      "text/plain": [
       "tensor(2.1042)"
      ]
     },
     "execution_count": 62,
     "metadata": {},
     "output_type": "execute_result"
    }
   ],
   "source": [
    "print('='*50 + '\\ntrain\\n' + '-'*50)\n",
    "trigram.eval(trainset)\n",
    "\n",
    "print('='*50 + '\\ndev\\n' + '-'*50)\n",
    "trigram.eval(devset)\n",
    "\n",
    "print('='*50 + '\\ntest\\n' + '-'*50)\n",
    "trigram.eval(testset)"
   ]
  },
  {
   "attachments": {},
   "cell_type": "markdown",
   "metadata": {},
   "source": [
    "# Trigram neural network"
   ]
  },
  {
   "cell_type": "code",
   "execution_count": 63,
   "metadata": {},
   "outputs": [],
   "source": [
    "import torch.nn.functional as F\n",
    "\n",
    "class Bigram_NN:\n",
    "    def __init__(self):\n",
    "        g = torch.Generator().manual_seed(2147483647)\n",
    "        self.W = torch.randn((27, 27), generator=g, requires_grad=True)\n",
    "\n",
    "    def loaddata(self, dataset):\n",
    "        chars = sorted(list(set(''.join(dataset))))\n",
    "        self.stoi = {s:i+1 for i,s in enumerate(chars)}\n",
    "        self.stoi['.'] = 0\n",
    "        self.itos = {i:s for s,i in self.stoi.items()}\n",
    "\n",
    "        xs, ys = [], []\n",
    "\n",
    "        for w in dataset:\n",
    "            chs = ['.'] + list(w) + ['.']\n",
    "\n",
    "            for ch1, ch2 in zip(chs, chs[1:]):\n",
    "                ix1 = self.stoi[ch1]\n",
    "                ix2 = self.stoi[ch2]\n",
    "                xs.append(ix1)\n",
    "                ys.append(ix2)\n",
    "\n",
    "        self.xs = torch.tensor(xs)\n",
    "        self.ys = torch.tensor(ys)\n",
    "\n",
    "    def forward_pass(self, xs):\n",
    "        xenc = F.one_hot(xs, num_classes=27).float()\n",
    "        logits = xenc @ self.W\n",
    "        counts = logits.exp()\n",
    "        probs = counts / counts.sum(1, keepdims=True)\n",
    "\n",
    "        return probs\n",
    "    \n",
    "    def train(self, epoch, is_print = True, is_draw = False):\n",
    "        if is_draw:\n",
    "            loss_ls = []\n",
    "\n",
    "        for k in range(epoch):\n",
    "            self.W.grad = None\n",
    "\n",
    "            probs = self.forward_pass(self.xs)\n",
    "            loss = -probs[torch.arange(self.xs.nelement()), self.ys].log().mean() + 0.01*(self.W**2).mean()\n",
    "\n",
    "            if is_print:\n",
    "                print('epoch: {} loss: {}'.format(k, loss.item()))\n",
    "\n",
    "            if is_draw:\n",
    "                loss_ls.append(loss.item())\n",
    "            \n",
    "            loss.backward()\n",
    "\n",
    "            self.W.data += -50 * self.W.grad\n",
    "\n",
    "        if is_draw:\n",
    "            plt.plot(loss_ls)\n",
    "\n",
    "            plt.title('loss curve')\n",
    "            plt.grid(linestyle='--')\n",
    "            plt.xlabel('epoches')\n",
    "            plt.ylabel('mean negative log-likelihood')\n",
    "\n",
    "    def sample(self, num):\n",
    "        g = torch.Generator().manual_seed(2147483647)\n",
    "\n",
    "        for i in range(num):\n",
    "            out = []\n",
    "            ix = 0\n",
    "            \n",
    "            # continue token\n",
    "            while True:\n",
    "                p = self.forward_pass(torch.tensor([ix, ]))[0]\n",
    "                ix = torch.multinomial(p, num_samples=1, replacement=True, generator=g).item()\n",
    "                out.append(self.itos[ix])\n",
    "                \n",
    "                if ix == 0:\n",
    "                    break\n",
    "                \n",
    "            print(''.join(out))\n",
    "\n",
    "    def eval(self, dataset, is_print = True):\n",
    "        log_likelihood = 0.0\n",
    "        n = 0\n",
    "\n",
    "        xs, ys = [], []\n",
    "\n",
    "        for w in dataset:\n",
    "            chs = ['.'] + list(w) + ['.']\n",
    "\n",
    "            for ch1, ch2 in zip(chs, chs[1:]):\n",
    "                ix1 = self.stoi[ch1]\n",
    "                ix2 = self.stoi[ch2]\n",
    "                xs.append(ix1)\n",
    "                ys.append(ix2)\n",
    "\n",
    "        xs = torch.tensor(xs)\n",
    "        ys = torch.tensor(ys)\n",
    "        probs = self.forward_pass(xs)\n",
    "        log_likelihood = probs[torch.arange(xs.nelement()), ys].log().sum()\n",
    "        nll = -log_likelihood\n",
    "        mnll = nll / len(xs)\n",
    "\n",
    "        if is_print:\n",
    "            print(f'{log_likelihood=}')\n",
    "            print(f'{nll=}')\n",
    "            print(f'{mnll}')\n",
    "\n",
    "        return mnll"
   ]
  },
  {
   "cell_type": "code",
   "execution_count": 64,
   "metadata": {},
   "outputs": [],
   "source": [
    "class Trigram_NN(Bigram_NN):\n",
    "    def __init__(self):\n",
    "        g = torch.Generator().manual_seed(2147483647)\n",
    "        self.W = torch.randn((27 * 27, 27), generator=g, requires_grad=True)\n",
    "\n",
    "    def loaddata(self, dataset):\n",
    "        chars = sorted(list(set(''.join(dataset))))\n",
    "        self.stoi = {s:i+1 for i,s in enumerate(chars)}\n",
    "        self.stoi['.'] = 0\n",
    "        self.itos = {i:s for s,i in self.stoi.items()}\n",
    "\n",
    "        xs, ys = [], []\n",
    "\n",
    "        for w in dataset:\n",
    "            chs = ['.'] + list(w) + ['.']\n",
    "\n",
    "            for ch1, ch2, ch3 in zip(chs, chs[1:], chs[2:]):\n",
    "                ix1 = self.stoi[ch1]\n",
    "                ix2 = self.stoi[ch2]\n",
    "                ix3 = self.stoi[ch3]\n",
    "                xs.append(27 * ix1 + ix2)\n",
    "                ys.append(ix3)\n",
    "\n",
    "        self.xs = torch.tensor(xs)\n",
    "        self.ys = torch.tensor(ys)\n",
    "\n",
    "    def forward_pass(self, xs):\n",
    "        xenc = F.one_hot(xs, num_classes=27 * 27).float()\n",
    "        logits = xenc @ self.W\n",
    "        counts = logits.exp()\n",
    "        probs = counts / counts.sum(1, keepdims=True)\n",
    "\n",
    "        return probs\n",
    "\n",
    "    def sample(self, num):\n",
    "        g = torch.Generator().manual_seed(2147483647)\n",
    "\n",
    "        for i in range(num):\n",
    "            out = []\n",
    "            ixs = self.xs[self.xs < 27]\n",
    "            idx_rand = torch.randint(len(ixs), (1, ))\n",
    "            ix = ixs[idx_rand]\n",
    "            \n",
    "            # continue token\n",
    "            while True:\n",
    "                p = self.forward_pass(torch.tensor([ix, ]))[0]\n",
    "                ix = torch.multinomial(p, num_samples=1, replacement=True, generator=g).item()\n",
    "                out.append(self.itos[ix])\n",
    "                \n",
    "                if ix == 0:\n",
    "                    break\n",
    "                \n",
    "            print(''.join(out))\n",
    "\n",
    "    def eval(self, dataset, is_print = True):\n",
    "        log_likelihood = 0.0\n",
    "        n = 0\n",
    "\n",
    "        xs, ys = [], []\n",
    "\n",
    "        for w in dataset:\n",
    "            chs = ['.'] + list(w) + ['.']\n",
    "\n",
    "            for ch1, ch2, ch3 in zip(chs, chs[1:], chs[2:]):\n",
    "                ix1 = self.stoi[ch1]\n",
    "                ix2 = self.stoi[ch2]\n",
    "                ix3 = self.stoi[ch3]\n",
    "                xs.append(27 * ix1 + ix2)\n",
    "                ys.append(ix3)\n",
    "\n",
    "        xs = torch.tensor(xs)\n",
    "        ys = torch.tensor(ys)\n",
    "        probs = self.forward_pass(xs)\n",
    "        log_likelihood = probs[torch.arange(xs.nelement()), ys].log().sum()\n",
    "        nll = -log_likelihood\n",
    "        mnll = nll / len(xs)\n",
    "\n",
    "        if is_print:\n",
    "            print(f'{log_likelihood=}')\n",
    "            print(f'{nll=}')\n",
    "            print(f'{mnll}')\n",
    "\n",
    "        return mnll"
   ]
  },
  {
   "attachments": {},
   "cell_type": "markdown",
   "metadata": {},
   "source": [
    "## Trigram neural network with tuneable smoothing factor"
   ]
  },
  {
   "cell_type": "code",
   "execution_count": 65,
   "metadata": {},
   "outputs": [],
   "source": [
    "class Trigram_NN_tune(Trigram_NN):\n",
    "    def train(self, epoch, smooth_factor = 0.01, is_print = True, is_draw = False):\n",
    "        if is_draw:\n",
    "            loss_ls = []\n",
    "\n",
    "        for k in range(epoch):\n",
    "            self.W.grad = None\n",
    "\n",
    "            probs = self.forward_pass(self.xs)\n",
    "            loss = -probs[torch.arange(self.xs.nelement()), self.ys].log().mean() + smooth_factor * (self.W**2).mean()\n",
    "\n",
    "            if is_print:\n",
    "                print('epoch: {} loss: {}'.format(k, loss.item()))\n",
    "\n",
    "            if is_draw:\n",
    "                loss_ls.append(loss.item())\n",
    "            \n",
    "            loss.backward()\n",
    "\n",
    "            self.W.data += -50 * self.W.grad\n",
    "\n",
    "        if is_draw:\n",
    "            plt.plot(loss_ls)\n",
    "\n",
    "            plt.title('loss curve')\n",
    "            plt.grid(linestyle='--')\n",
    "            plt.xlabel('epoches')\n",
    "            plt.ylabel('mean negative log-likelihood')"
   ]
  },
  {
   "cell_type": "code",
   "execution_count": 66,
   "metadata": {},
   "outputs": [
    {
     "name": "stdout",
     "output_type": "stream",
     "text": [
      "[====================] 100.0% 7/7\n"
     ]
    }
   ],
   "source": [
    "loss_dev = []\n",
    "loss_train = []\n",
    "smooth_ls = [0.1, 0.3, 0.5, 0.7, 1.0, 2.0, 3.0]\n",
    "\n",
    "for id in range(len(smooth_ls)):\n",
    "    s = smooth_ls[id]\n",
    "    \n",
    "    trigram_nn = Trigram_NN_tune()\n",
    "    trigram_nn.loaddata(devset)\n",
    "    trigram_nn.train(100, is_print=False, is_draw=False, smooth_factor=s)\n",
    "\n",
    "    loss_dev.append(trigram_nn.eval(devset, is_print=False).item())\n",
    "    loss_train.append(trigram_nn.eval(trainset, is_print=False).item())\n",
    "\n",
    "    progress_bar((id+1)/len(smooth_ls), back_str=' {}/{}'.format(id+1, len(smooth_ls)))"
   ]
  },
  {
   "cell_type": "code",
   "execution_count": 67,
   "metadata": {},
   "outputs": [
    {
     "data": {
      "text/plain": [
       "<matplotlib.legend.Legend at 0x7f8b4b9e5fd0>"
      ]
     },
     "execution_count": 67,
     "metadata": {},
     "output_type": "execute_result"
    },
    {
     "data": {
      "image/png": "[encoded data removed]",
      "text/plain": [
       "<Figure size 640x480 with 1 Axes>"
      ]
     },
     "metadata": {},
     "output_type": "display_data"
    }
   ],
   "source": [
    "plt.plot(smooth_ls, loss_dev, color='gold', label='dev loss')\n",
    "plt.plot(smooth_ls, loss_train, color='teal', label='train loss')\n",
    "\n",
    "plt.title('loss')\n",
    "plt.grid(linestyle='--')\n",
    "plt.xlabel('smooth factor')\n",
    "plt.ylabel('mean negative log-likelihood')\n",
    "plt.legend(loc='lower right')"
   ]
  },
  {
   "attachments": {},
   "cell_type": "markdown",
   "metadata": {},
   "source": [
    "## Best smooth factor"
   ]
  },
  {
   "cell_type": "code",
   "execution_count": 68,
   "metadata": {},
   "outputs": [],
   "source": [
    "trigram_nn = Trigram_NN_tune()\n",
    "trigram_nn.loaddata(trainset)\n",
    "trigram_nn.train(100, is_print=False, is_draw=False, smooth_factor=0.7)"
   ]
  },
  {
   "cell_type": "code",
   "execution_count": 69,
   "metadata": {},
   "outputs": [
    {
     "name": "stdout",
     "output_type": "stream",
     "text": [
      "==================================================\n",
      "train\n",
      "--------------------------------------------------\n",
      "log_likelihood=tensor(-375947., grad_fn=<SumBackward0>)\n",
      "nll=tensor(375947., grad_fn=<NegBackward0>)\n",
      "2.396230459213257\n",
      "==================================================\n",
      "dev\n",
      "--------------------------------------------------\n",
      "log_likelihood=tensor(-47436.6016, grad_fn=<SumBackward0>)\n",
      "nll=tensor(47436.6016, grad_fn=<NegBackward0>)\n",
      "2.409172296524048\n",
      "==================================================\n",
      "test\n",
      "--------------------------------------------------\n",
      "log_likelihood=tensor(-47038.4297, grad_fn=<SumBackward0>)\n",
      "nll=tensor(47038.4297, grad_fn=<NegBackward0>)\n",
      "2.4082751274108887\n"
     ]
    },
    {
     "data": {
      "text/plain": [
       "tensor(2.4083, grad_fn=<DivBackward0>)"
      ]
     },
     "execution_count": 69,
     "metadata": {},
     "output_type": "execute_result"
    }
   ],
   "source": [
    "print('='*50 + '\\ntrain\\n' + '-'*50)\n",
    "trigram_nn.eval(trainset)\n",
    "\n",
    "print('='*50 + '\\ndev\\n' + '-'*50)\n",
    "trigram_nn.eval(devset)\n",
    "\n",
    "print('='*50 + '\\ntest\\n' + '-'*50)\n",
    "trigram_nn.eval(testset)"
   ]
  },
  {
   "cell_type": "code",
   "execution_count": null,
   "metadata": {},
   "outputs": [],
   "source": []
  }
 ],
 "metadata": {
  "kernelspec": {
   "display_name": "Python 3",
   "language": "python",
   "name": "python3"
  },
  "language_info": {
   "codemirror_mode": {
    "name": "ipython",
    "version": 3
   },
   "file_extension": ".py",
   "mimetype": "text/x-python",
   "name": "python",
   "nbconvert_exporter": "python",
   "pygments_lexer": "ipython3",
   "version": "3.9.16"
  }
 },
 "nbformat": 4,
 "nbformat_minor": 4
}
