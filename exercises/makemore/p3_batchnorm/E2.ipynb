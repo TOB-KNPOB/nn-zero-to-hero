{
 "cells": [
  {
   "attachments": {},
   "cell_type": "markdown",
   "metadata": {},
   "source": [
    "> E01: I did not get around to seeing what happens when you initialize all weights and biases to zero. Try this and train the neural net. You might think either that 1) the network trains just fine or 2) the network doesn't train at all, but actually it is 3) the network trains but only partially, and achieves a pretty bad final performance. Inspect the gradients and activations to figure out what is happening and why the network is only partially training, and what part is being trained exactly.\n",
    "\n",
    "Situation (3) is the case. Only the `gamma` and `beta` of the last `BatchNorm1d` layer is trained.\n",
    "\n",
    "Reason: the zero `weight` of the `Linear` layers make the output of these layers all become zero vectors. Therefore, the `weight` of a linear layer won't have any effect on the output. In this case, in backward-propagation, the gradients from the loss function will all be zeros, resulting in an untrained network. Only the the `gamma` and `beta` of the last `BatchNorm1d` layer have gradients and can be trained."
   ]
  },
  {
   "attachments": {},
   "cell_type": "markdown",
   "metadata": {},
   "source": [
    "> E02: BatchNorm, unlike other normalization layers like LayerNorm/GroupNorm etc. has the big advantage that after training, the batchnorm gamma/beta can be \"folded into\" the weights of the preceeding Linear layers, effectively erasing the need to forward it at test time. Set up a small 3-layer MLP with batchnorms, train the network, then \"fold\" the batchnorm gamma/beta into the preceeding Linear layer's W,b by creating a new W2, b2 and erasing the batch norm. Verify that this gives the same forward pass during inference. i.e. we see that the batchnorm is there just for stabilizing the training, and can be thrown out after training is done! pretty cool.\n",
    "\n",
    "The calculation in `BatchNorm1d` can be written as:\n",
    "\n",
    "$$\\bm y = B(\\bm x) = \\gamma \\frac{\\bm x - \\bm r_{mean}}{\\sqrt{\\bm r_{var} + \\epsilon}}+ \\beta$$\n",
    "\n",
    "Since $\\bm x$ is from the linear layer, $\\bm x = L(\\bm x_{in}) = \\bm W \\bm x_{in}$. Therefore:\n",
    "\n",
    "$$\\bm y = BN(\\bm x) = \\gamma \\frac{\\bm W \\bm x_{in} - \\bm r_{mean}}{\\sqrt{\\bm r_{var} + \\epsilon}}+ \\beta\n",
    "= (\\frac{\\gamma \\bm W}{\\sqrt{\\bm r_{var} + \\epsilon}}) \\bm x_{in} + (\\beta - \\frac{\\gamma \\bm r_{mean}}{\\sqrt{\\bm r_{var} + \\epsilon}})$$\n",
    "\n",
    "This proves that the combination of batch normalization and linear layers is equivalent with a linear layer with weight $\\frac{\\gamma \\bm W}{\\sqrt{\\bm r_{var} + \\epsilon}}$ and bias $(\\beta - \\frac{\\gamma \\bm r_{mean}}{\\sqrt{\\bm r_{var} + \\epsilon}})$.\n",
    "\n",
    "The equivalence is verified with:\n",
    "- Outputs are the same with context `'...'`.\n",
    "- Loss values are the same on `trainset`, `devset`, and `testset`."
   ]
  },
  {
   "cell_type": "code",
   "execution_count": 37,
   "metadata": {},
   "outputs": [
    {
     "data": {
      "text/plain": [
       "device(type='cpu')"
      ]
     },
     "execution_count": 37,
     "metadata": {},
     "output_type": "execute_result"
    }
   ],
   "source": [
    "import torch\n",
    "\n",
    "if torch.backends.mps.is_available():\n",
    "    # not sure why, the mps device is even slower than the cpu device on my MacBook m1 machine\n",
    "    # device = torch.device('mps')\n",
    "    device = torch.device('cpu')\n",
    "else:\n",
    "    device = torch.device('cpu')\n",
    "\n",
    "device"
   ]
  },
  {
   "attachments": {},
   "cell_type": "markdown",
   "metadata": {},
   "source": [
    "# Load data"
   ]
  },
  {
   "cell_type": "code",
   "execution_count": 38,
   "metadata": {},
   "outputs": [],
   "source": [
    "words = open('../../../data/names.txt', 'r').read().splitlines()"
   ]
  },
  {
   "cell_type": "code",
   "execution_count": 39,
   "metadata": {},
   "outputs": [],
   "source": [
    "g = torch.Generator().manual_seed(2147483647)\n",
    "trainwords, devwords, testwords = torch.utils.data.random_split(words, [0.8, 0.1, 0.1])"
   ]
  },
  {
   "cell_type": "code",
   "execution_count": 40,
   "metadata": {},
   "outputs": [],
   "source": [
    "class Dataset:\n",
    "    def __init__(self, dataset, context_size: int = 3):\n",
    "        # create character - index mapping\n",
    "        chars = sorted(list(set(''.join(dataset))))\n",
    "        self.stoi = {s:i+1 for i,s in enumerate(chars)}\n",
    "        self.stoi['.'] = 0\n",
    "        self.itos = {i:s for s,i in self.stoi.items()}\n",
    "\n",
    "        # digitize the dataset\n",
    "        xs, ys = [], []\n",
    "\n",
    "        for w in dataset:\n",
    "            context = [0] * context_size\n",
    "\n",
    "            for ch in w + '.':\n",
    "                ix = self.stoi[ch]\n",
    "                xs.append(context)\n",
    "                ys.append(ix)\n",
    "                context = context[1:] + [ix]\n",
    "\n",
    "        self.xs = torch.tensor(xs, device=device)\n",
    "        self.ys = torch.tensor(ys, device=device)\n",
    "\n",
    "    def __len__(self):\n",
    "        return len(self.xs)\n",
    "    \n",
    "    def draw(self, batch_size: int = 32):\n",
    "        ix = torch.randint(0, len(self), (batch_size,)).to(device)\n",
    "        return(self.xs[ix], self.ys[ix])"
   ]
  },
  {
   "cell_type": "code",
   "execution_count": 41,
   "metadata": {},
   "outputs": [],
   "source": [
    "trainset = Dataset(trainwords)\n",
    "devset = Dataset(devwords)\n",
    "testset = Dataset(testwords)"
   ]
  },
  {
   "attachments": {},
   "cell_type": "markdown",
   "metadata": {},
   "source": [
    "# MLP language model with `Batchnorm`"
   ]
  },
  {
   "attachments": {},
   "cell_type": "markdown",
   "metadata": {},
   "source": [
    "## Modules"
   ]
  },
  {
   "cell_type": "code",
   "execution_count": 42,
   "metadata": {},
   "outputs": [],
   "source": [
    "class Linear:\n",
    "  def __init__(self, fan_in, fan_out, bias=True):\n",
    "    self.weight = (torch.randn((fan_in, fan_out), generator=g) / fan_in**0.5).to(device)\n",
    "    self.bias = (torch.zeros(fan_out).to(device) if bias else None)\n",
    "  \n",
    "  def __call__(self, x):\n",
    "    self.out = x @ self.weight\n",
    "    if self.bias is not None:\n",
    "      self.out += self.bias\n",
    "    return self.out\n",
    "  \n",
    "  def parameters(self):\n",
    "    return [self.weight] + ([] if self.bias is None else [self.bias])\n"
   ]
  },
  {
   "cell_type": "code",
   "execution_count": 43,
   "metadata": {},
   "outputs": [],
   "source": [
    "class BatchNorm1d:\n",
    "  def __init__(self, dim, eps=1e-5, momentum=0.1):\n",
    "    self.eps = eps\n",
    "    self.momentum = momentum\n",
    "    self.training = True\n",
    "    \n",
    "    # parameters (trained with backprop)\n",
    "    self.gamma = torch.ones(dim).to(device)\n",
    "    self.beta = torch.zeros(dim).to(device)\n",
    "    \n",
    "    # buffers (trained with a running 'momentum update')\n",
    "    self.running_mean = torch.zeros(dim).to(device)\n",
    "    self.running_var = torch.ones(dim).to(device)\n",
    "  \n",
    "  def __call__(self, x):\n",
    "    # calculate the forward pass\n",
    "    if self.training:\n",
    "      xmean = x.mean(0, keepdim=True) # batch mean\n",
    "      xvar = x.var(0, keepdim=True) # batch variance\n",
    "\n",
    "    else:\n",
    "      xmean = self.running_mean\n",
    "      xvar = self.running_var\n",
    "\n",
    "    xhat = (x - xmean) / torch.sqrt(xvar + self.eps) # normalize to unit variance\n",
    "    self.out = self.gamma * xhat + self.beta\n",
    "\n",
    "    # update the buffers\n",
    "    if self.training:\n",
    "      with torch.no_grad():\n",
    "        self.running_mean = (1 - self.momentum) * self.running_mean + self.momentum * xmean\n",
    "        self.running_var = (1 - self.momentum) * self.running_var + self.momentum * xvar\n",
    "        \n",
    "    return self.out\n",
    "  \n",
    "  def parameters(self):\n",
    "    return [self.gamma, self.beta]"
   ]
  },
  {
   "cell_type": "code",
   "execution_count": 44,
   "metadata": {},
   "outputs": [],
   "source": [
    "class Tanh:\n",
    "  def __init__(self):\n",
    "    pass\n",
    "  \n",
    "  def __call__(self, x):\n",
    "    self.out = torch.tanh(x)\n",
    "    return self.out\n",
    "  \n",
    "  def parameters(self):\n",
    "    return []"
   ]
  },
  {
   "attachments": {},
   "cell_type": "markdown",
   "metadata": {},
   "source": [
    "## Language model"
   ]
  },
  {
   "cell_type": "code",
   "execution_count": 45,
   "metadata": {},
   "outputs": [],
   "source": [
    "import sys\n",
    "\n",
    "def progress_bar(percent: float, bar_len: int = 20, front_str: str = '', back_str: str = ''):\n",
    "    sys.stdout.write(\"\\r\")\n",
    "    sys.stdout.write(\"{}[{:<{}}] {:.1%}{}\".format(front_str, \"=\" * int(bar_len * percent), bar_len, percent, back_str))\n",
    "    sys.stdout.flush()\n",
    "    # avoiding '%' appears when progress completed\n",
    "    if percent == 1:\n",
    "        print()"
   ]
  },
  {
   "cell_type": "code",
   "execution_count": 46,
   "metadata": {},
   "outputs": [],
   "source": [
    "import numpy as np\n",
    "import matplotlib.pyplot as plt\n",
    "\n",
    "def loss_curve(loss_ls):\n",
    "    plt.plot(np.reshape(loss_ls, (-1,)))\n",
    "    plt.xlabel('epoch')\n",
    "    plt.ylabel('cross entropy')\n",
    "    plt.grid('--')"
   ]
  },
  {
   "cell_type": "code",
   "execution_count": 47,
   "metadata": {},
   "outputs": [],
   "source": [
    "import torch.nn.functional as F\n",
    "\n",
    "class LM_batchnorm(object):\n",
    "    def __init__(\n",
    "            self,\n",
    "            itos,\n",
    "            vocab_size = 27, # token vocabulary size\n",
    "            context_size = 3, # context length: how many characters do we take to predict the next one\n",
    "            embed_size = 10, # the dimensionality of the character embedding vectors\n",
    "            hidden_size = 100, # the number of neurons in the hidden layer of the MLP\n",
    "        ):\n",
    "        self.itos = itos\n",
    "        self.context_size = context_size\n",
    "        g = torch.Generator().manual_seed(2147483647)\n",
    "\n",
    "        # parameter initialization\n",
    "        # token embeddings\n",
    "        self.C = torch.randn((vocab_size, embed_size), generator=g).to(device)\n",
    "        \n",
    "        # stacked layers\n",
    "        self.layers = [\n",
    "            Linear(embed_size * self.context_size, hidden_size, bias=False), BatchNorm1d(hidden_size), Tanh(),\n",
    "            Linear(hidden_size, hidden_size, bias=False), BatchNorm1d(hidden_size), Tanh(),\n",
    "            Linear(hidden_size, hidden_size, bias=False), BatchNorm1d(hidden_size), Tanh(),\n",
    "            Linear(hidden_size, hidden_size, bias=False), BatchNorm1d(hidden_size), Tanh(),\n",
    "            Linear(hidden_size, hidden_size, bias=False), BatchNorm1d(hidden_size), Tanh(),\n",
    "            Linear(hidden_size, vocab_size, bias=False), BatchNorm1d(vocab_size),\n",
    "        ]\n",
    "\n",
    "        with torch.no_grad():\n",
    "            # last layer: make less confident\n",
    "            self.layers[-1].gamma *= 0.1\n",
    "        \n",
    "            # all other self.layers: apply gain\n",
    "            for layer in self.layers[:-1]:\n",
    "                if isinstance(layer, Linear):\n",
    "                    layer.weight *= 1.0 #5/3\n",
    "\n",
    "        # gather all parameters\n",
    "        self.param = [self.C] + [p for layer in self.layers for p in layer.parameters()]\n",
    "        print(\"param num: {}\".format(sum(p.nelement() for p in self.param)))\n",
    "\n",
    "    def forward(self, xs):\n",
    "        emb = self.C[xs] # embed the characters into vectors\n",
    "        x = emb.view(emb.shape[0], -1) # concatenate the vectors\n",
    "\n",
    "        for layer in self.layers:\n",
    "            x = layer(x)\n",
    "\n",
    "        return x\n",
    "    \n",
    "    def switch_mode(self, mode = 'train'):\n",
    "        if mode == 'train':\n",
    "            for layer in self.layers:\n",
    "                if isinstance(layer, BatchNorm1d):\n",
    "                    layer.training = True\n",
    "\n",
    "        else:\n",
    "            for layer in self.layers:\n",
    "                if isinstance(layer, BatchNorm1d):\n",
    "                    layer.training = False\n",
    "\n",
    "    def train(self, dataset, batch_size: int = 32, epochs: int = 1000, lr: float = 1e-1):\n",
    "        for p in self.param:\n",
    "            p.requires_grad = True\n",
    "\n",
    "        loss_ls = []\n",
    "        update_ls = []\n",
    "        self.switch_mode('train')\n",
    "\n",
    "        for ix in range(epochs):\n",
    "            progress_bar((ix+1) / epochs, back_str=\"\\t learning rate {}\".format(lr))\n",
    "\n",
    "            # batch forward/backward pass\n",
    "            xs_batch, ys_batch = dataset.draw(batch_size)\n",
    "            logits = self.forward(xs_batch)\n",
    "            loss = F.cross_entropy(logits, ys_batch)\n",
    "\n",
    "            # gradient descent\n",
    "            for layer in self.layers:\n",
    "                layer.out.retain_grad() # AFTER_DEBUG: would take out retain_graph\n",
    "            \n",
    "            for p in self.param:\n",
    "                p.grad = None\n",
    "            \n",
    "            loss.backward()\n",
    "            \n",
    "            if ix < 150000:\n",
    "                for p in self.param:\n",
    "                    p.data += -lr * p.grad\n",
    "            else:\n",
    "                for p in self.param:\n",
    "                    p.data += -lr/10 * p.grad # step learning rate decay\n",
    "\n",
    "            # track stats\n",
    "            loss_ls.append(loss.item())\n",
    "\n",
    "            with torch.no_grad():\n",
    "                update_ls.append([((lr*p.grad).std() / p.data.std()).log10().item() for p in self.param])\n",
    "\n",
    "        return loss_ls, update_ls\n",
    "\n",
    "    def eval(self, dataset, loss_str: str = ''):\n",
    "        self.switch_mode('infer')\n",
    "        xs, ys = dataset.xs, dataset.ys\n",
    "        logits = self.forward(xs)\n",
    "        loss = F.cross_entropy(logits, ys)\n",
    "        print(\"{} \\t {:.4f}\".format(loss_str, loss.item()))\n",
    "\n",
    "    def sample(self, sample_num: 1):\n",
    "        self.switch_mode('infer')\n",
    "        \n",
    "        for _ in range(sample_num):\n",
    "            out = []\n",
    "            context = [0] * self.context_size # initialize with all ...\n",
    "\n",
    "            while True:\n",
    "                # forward pass the neural net\n",
    "                logits = self.forward(torch.tensor([context]))\n",
    "                probs = F.softmax(logits, dim=1)\n",
    "\n",
    "                # sample from the distribution\n",
    "                ix = torch.multinomial(probs, num_samples=1, generator=g).item()\n",
    "                \n",
    "                # shift the context window and track the samples\n",
    "                context = context[1:] + [ix]\n",
    "                out.append(ix)\n",
    "                # if we sample the special '.' token, break\n",
    "                if ix == 0:\n",
    "                    break\n",
    "            \n",
    "            print(''.join(self.itos[i] for i in out[:-1])) # decode and print the generated word"
   ]
  },
  {
   "attachments": {},
   "cell_type": "markdown",
   "metadata": {},
   "source": [
    "The calculation in `BatchNorm1d` can be written as:\n",
    "\n",
    "$$\\bm y = B(\\bm x) = \\gamma \\frac{\\bm x - \\bm r_{mean}}{\\sqrt{\\bm r_{var} + \\epsilon}}+ \\beta$$\n",
    "\n",
    "Since $\\bm x$ is from the linear layer, $\\bm x = L(\\bm x_{in}) = \\bm W \\bm x_{in}$. Therefore:\n",
    "\n",
    "$$\\bm y = BN(\\bm x) = \\gamma \\frac{\\bm W \\bm x_{in} - \\bm r_{mean}}{\\sqrt{\\bm r_{var} + \\epsilon}}+ \\beta\n",
    "= (\\frac{\\gamma \\bm W}{\\sqrt{\\bm r_{var} + \\epsilon}}) \\bm x_{in} + (\\beta - \\frac{\\gamma \\bm r_{mean}}{\\sqrt{\\bm r_{var} + \\epsilon}})$$\n",
    "\n",
    "This proves that the combination of batch normalization and linear layers is equivalent with a linear layer with weight $\\frac{\\gamma \\bm W}{\\sqrt{\\bm r_{var} + \\epsilon}}$ and bias $\\beta - \\frac{\\gamma \\bm r_{mean}}{\\sqrt{\\bm r_{var} + \\epsilon}}$."
   ]
  },
  {
   "cell_type": "code",
   "execution_count": 48,
   "metadata": {},
   "outputs": [],
   "source": [
    "class LM_fold(LM_batchnorm):\n",
    "    def fold(self):\n",
    "        new_layers = []\n",
    "\n",
    "        for layer in self.layers:\n",
    "            if not isinstance(layer, BatchNorm1d):\n",
    "                new_layers.append(layer)\n",
    "\n",
    "            else:\n",
    "                original_weight = new_layers[-1].weight\n",
    "                new_layers[-1].weight = layer.gamma * original_weight / torch.sqrt(layer.running_var + layer.eps)\n",
    "                new_layers[-1].bias = layer.beta - layer.gamma * layer.running_mean / torch.sqrt(layer.running_var + layer.eps)\n",
    "\n",
    "        self.layers = new_layers\n",
    "\n",
    "        # gather all parameters\n",
    "        self.param = [self.C] + [p for layer in self.layers for p in layer.parameters()]\n",
    "        print(\"param num: {}\".format(sum(p.nelement() for p in self.param)))"
   ]
  },
  {
   "cell_type": "code",
   "execution_count": 68,
   "metadata": {},
   "outputs": [
    {
     "name": "stdout",
     "output_type": "stream",
     "text": [
      "param num: 173724\n",
      "[====================] 100.0%\t learning rate 0.1\n"
     ]
    },
    {
     "data": {
      "image/png": "[encoded data removed]",
      "text/plain": [
       "<Figure size 640x480 with 1 Axes>"
      ]
     },
     "metadata": {},
     "output_type": "display_data"
    }
   ],
   "source": [
    "# model init\n",
    "lm = LM_fold(\n",
    "    itos = trainset.itos,\n",
    "    context_size = 3,\n",
    "    embed_size = 10,\n",
    "    hidden_size = 200,\n",
    "    )\n",
    "\n",
    "# train\n",
    "loss_ls, update_ls = lm.train(trainset, epochs=1000)\n",
    "loss_curve(loss_ls)"
   ]
  },
  {
   "cell_type": "code",
   "execution_count": 69,
   "metadata": {},
   "outputs": [
    {
     "name": "stdout",
     "output_type": "stream",
     "text": [
      "train \t 2.3741\n",
      "dev \t 2.3871\n",
      "test \t 2.3886\n"
     ]
    }
   ],
   "source": [
    "lm.eval(trainset, loss_str='train')\n",
    "lm.eval(devset, loss_str='dev')\n",
    "lm.eval(testset, loss_str='test')"
   ]
  },
  {
   "cell_type": "code",
   "execution_count": 70,
   "metadata": {},
   "outputs": [
    {
     "data": {
      "text/plain": [
       "tensor([[-1.7967,  1.5811,  0.2553,  0.1832,  0.2574,  0.8164, -0.8187, -0.2626,\n",
       "         -0.4938,  0.0966,  0.9090,  0.9169,  0.8585,  0.4940, -0.4563, -0.3899,\n",
       "         -0.8054, -1.1748,  0.3325,  0.6063,  0.5023, -1.0508, -0.8968, -0.9100,\n",
       "         -1.1865, -0.2430, -0.2794]], grad_fn=<AddBackward0>)"
      ]
     },
     "execution_count": 70,
     "metadata": {},
     "output_type": "execute_result"
    }
   ],
   "source": [
    "context = torch.tensor([[0, 0, 0]])\n",
    "lm.forward(context)"
   ]
  },
  {
   "attachments": {},
   "cell_type": "markdown",
   "metadata": {},
   "source": [
    "# `Batchnorm` folding"
   ]
  },
  {
   "cell_type": "code",
   "execution_count": 71,
   "metadata": {},
   "outputs": [
    {
     "name": "stdout",
     "output_type": "stream",
     "text": [
      "param num: 172697\n"
     ]
    }
   ],
   "source": [
    "lm.fold()"
   ]
  },
  {
   "cell_type": "code",
   "execution_count": 72,
   "metadata": {},
   "outputs": [
    {
     "name": "stdout",
     "output_type": "stream",
     "text": [
      "train \t 2.3741\n",
      "dev \t 2.3871\n",
      "test \t 2.3886\n"
     ]
    }
   ],
   "source": [
    "lm.eval(trainset, loss_str='train')\n",
    "lm.eval(devset, loss_str='dev')\n",
    "lm.eval(testset, loss_str='test')"
   ]
  },
  {
   "cell_type": "code",
   "execution_count": 73,
   "metadata": {},
   "outputs": [
    {
     "data": {
      "text/plain": [
       "tensor([[-1.7967,  1.5811,  0.2553,  0.1832,  0.2574,  0.8164, -0.8187, -0.2626,\n",
       "         -0.4938,  0.0966,  0.9090,  0.9169,  0.8585,  0.4940, -0.4563, -0.3899,\n",
       "         -0.8054, -1.1748,  0.3325,  0.6063,  0.5023, -1.0508, -0.8968, -0.9100,\n",
       "         -1.1865, -0.2430, -0.2794]], grad_fn=<AddBackward0>)"
      ]
     },
     "execution_count": 73,
     "metadata": {},
     "output_type": "execute_result"
    }
   ],
   "source": [
    "lm.forward(context)"
   ]
  }
 ],
 "metadata": {
  "kernelspec": {
   "display_name": "pytorch",
   "language": "python",
   "name": "python3"
  },
  "language_info": {
   "codemirror_mode": {
    "name": "ipython",
    "version": 3
   },
   "file_extension": ".py",
   "mimetype": "text/x-python",
   "name": "python",
   "nbconvert_exporter": "python",
   "pygments_lexer": "ipython3",
   "version": "3.9.16"
  },
  "orig_nbformat": 4
 },
 "nbformat": 4,
 "nbformat_minor": 2
}
